{
 "cells": [
  {
   "cell_type": "markdown",
   "metadata": {},
   "source": [
    "## Challenge 1 - PyBank\n",
    "\n",
    "Your task is to create a Python script that analyzes the records to calculate each of the following:\n",
    "\n",
    "\n",
    "- The total number of months included in the dataset\n",
    "- The net total amount of \"Profit/Losses\" over the entire period\n",
    "- The average of the changes in \"Profit/Losses\" over the entire period\n",
    "- The greatest increase in profits (date and amount) over the entire period\n",
    "- The greatest decrease in losses (date and amount) over the entire period"
   ]
  },
  {
   "cell_type": "code",
   "execution_count": 1,
   "metadata": {},
   "outputs": [],
   "source": [
    "# Dependencies\n",
    "import os\n",
    "import csv"
   ]
  },
  {
   "cell_type": "code",
   "execution_count": 2,
   "metadata": {},
   "outputs": [],
   "source": [
    "# Set path for file\n",
    "csvpath = os.path.join(\"Resources\", \"budget_data.csv\")"
   ]
  },
  {
   "cell_type": "code",
   "execution_count": 3,
   "metadata": {},
   "outputs": [],
   "source": [
    "# Store Data in Lists\n",
    "number_months = 0\n",
    "profit_loss = 0\n",
    "begin_profit = 0\n",
    "revenue_monthly = []\n",
    "rev_increase = [\"\", 0]\n",
    "rev_decrease = [\"\", 9999999999999999999]\n",
    "\n",
    "# Open the CSV\n",
    "with open(csvpath, newline=\"\") as csvfile:\n",
    "    csvreader = csv.reader(csvfile)\n",
    "    header = next(csvreader)\n",
    "\n",
    "# Create loops\n",
    "# Total Number of Months\n",
    "    for row in csvreader:\n",
    "        number_months = number_months + 1\n",
    "        profit_loss = profit_loss + int(row[1])\n",
    "        \n",
    "# Total Revenue\n",
    "        profit_change = int(row[1]) - begin_profit\n",
    "        begin_profit = int(row[1])\n",
    "        revenue_monthly.append(profit_change)\n",
    "    \n",
    "#find the greatest increase in revenue\n",
    "        if profit_change > rev_increase[1]:\n",
    "            rev_increase[0] = row[0]\n",
    "            rev_increase[1] = profit_change \n",
    "                               \n",
    "#find the greatest decrease in revenue\n",
    "        if profit_change < rev_decrease[1]:\n",
    "            rev_decrease[0] = row[0]\n",
    "            rev_decrease[1] = profit_change \n",
    "\n",
    "# Calculate Average Change    \n",
    "average_change = sum(revenue_monthly)  / number_months"
   ]
  },
  {
   "cell_type": "code",
   "execution_count": 4,
   "metadata": {},
   "outputs": [
    {
     "name": "stdout",
     "output_type": "stream",
     "text": [
      "----------------------------------------------------------\n",
      "Financial Analysis\n",
      "----------------------------------------------------------\n",
      "Total Months: 86\n",
      "Total Revenue: $38382578\n",
      "Average Change: $7803\n",
      "Greatest Increase: ['Feb-2012', 1926159]\n",
      "Greatest Decrease: ['Sep-2013', -2196167]\n"
     ]
    }
   ],
   "source": [
    "print(\"----------------------------------------------------------\")\n",
    "print(\"Financial Analysis\")\n",
    "print(\"----------------------------------------------------------\")\n",
    "# sum of months\n",
    "print(\"Total Months:\", number_months)\n",
    "print(\"Total Revenue: $\" + str(profit_loss))\n",
    "print(\"Average Change: $\" + str(int(average_change)))\n",
    "print(\"Greatest Increase:\", rev_increase)\n",
    "print(\"Greatest Decrease:\", rev_decrease)\n",
    "\n"
   ]
  },
  {
   "cell_type": "code",
   "execution_count": 5,
   "metadata": {},
   "outputs": [],
   "source": [
    "# Generate Results Output\n",
    "results = (\n",
    "    f\"\\nFinancial Analysis\\n\"\n",
    "    f\"----------------------------\\n\"\n",
    "    f\"Total Months: {number_months}\\n\"\n",
    "    f\"Total Revenue: ${profit_loss}\\n\"\n",
    "    f\"Average  Change: ${average_change:.2f}\\n\"\n",
    "    f\"Greatest Increase in Profits: {rev_increase[0]} (${rev_increase[1]})\\n\"\n",
    "    f\"Greatest Decrease in Profits: {rev_decrease[0]} (${rev_decrease[1]})\\n\")\n",
    "\n"
   ]
  },
  {
   "cell_type": "code",
   "execution_count": 6,
   "metadata": {},
   "outputs": [
    {
     "name": "stdout",
     "output_type": "stream",
     "text": [
      "\n",
      "Financial Analysis\n",
      "----------------------------\n",
      "Total Months: 86\n",
      "Total Revenue: $38382578\n",
      "Average  Change: $7803.48\n",
      "Greatest Increase in Profits: Feb-2012 ($1926159)\n",
      "Greatest Decrease in Profits: Sep-2013 ($-2196167)\n",
      "\n"
     ]
    }
   ],
   "source": [
    "# Print the output (to terminal)\n",
    "print(results)\n",
    "\n",
    "\n"
   ]
  },
  {
   "cell_type": "code",
   "execution_count": 7,
   "metadata": {},
   "outputs": [],
   "source": [
    "# Export the results to text file\n",
    "file_to_output = os.path.join(\"Analysis\", \"profit_loss_analysis.txt\")\n",
    "\n",
    "with open(file_to_output, \"w\") as txt_file:\n",
    "    txt_file.write(results)"
   ]
  },
  {
   "cell_type": "code",
   "execution_count": null,
   "metadata": {},
   "outputs": [],
   "source": []
  }
 ],
 "metadata": {
  "kernelspec": {
   "display_name": "Python [conda env:PythonData] *",
   "language": "python",
   "name": "conda-env-PythonData-py"
  },
  "language_info": {
   "codemirror_mode": {
    "name": "ipython",
    "version": 3
   },
   "file_extension": ".py",
   "mimetype": "text/x-python",
   "name": "python",
   "nbconvert_exporter": "python",
   "pygments_lexer": "ipython3",
   "version": "3.6.8"
  }
 },
 "nbformat": 4,
 "nbformat_minor": 2
}
