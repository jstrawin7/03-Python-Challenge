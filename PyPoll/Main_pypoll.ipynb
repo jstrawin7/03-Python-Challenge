{
 "cells": [
  {
   "cell_type": "markdown",
   "metadata": {},
   "source": [
    "## Challenge 2 - PyPoll\n",
    "\n",
    "You will be give a set of poll data called election_data.csv. The dataset is composed of three columns: Voter ID, County, and Candidate. Your task is to create a Python script that analyzes the votes and calculates each of the following:\n",
    "\n",
    "\n",
    "- The total number of votes cast\n",
    "- A complete list of candidates who received votes\n",
    "- The percentage of votes each candidate won\n",
    "- The total number of votes each candidate won\n",
    "- The winner of the election based on popular vote."
   ]
  },
  {
   "cell_type": "code",
   "execution_count": 34,
   "metadata": {},
   "outputs": [],
   "source": [
    "# Dependencies\n",
    "import os\n",
    "import csv"
   ]
  },
  {
   "cell_type": "code",
   "execution_count": 35,
   "metadata": {},
   "outputs": [],
   "source": [
    "# Set path for file\n",
    "csvpath = os.path.join(\"Resources\", \"election_data.csv\")"
   ]
  },
  {
   "cell_type": "code",
   "execution_count": 36,
   "metadata": {},
   "outputs": [],
   "source": [
    "# Open the CSV\n",
    "with open(csvpath, newline=\"\") as csvfile:\n",
    "    csvreader = csv.reader(csvfile)\n",
    "    header = next(csvreader)\n",
    "    \n",
    "    candidate = []\n",
    "\n",
    "    for row in csvreader:\n",
    "        candidate.append(row[2])\n",
    "\n",
    "    candidate_count = [[x,candidate.count(x)] for x in set(candidate)]\n",
    "    \n",
    "    number_votes = []\n",
    "    candinate_name = []\n",
    "    \n",
    "    for row in candidate_count:\n",
    "        candinate_name.append(row[0])\n",
    "        number_votes.append(row[1])\n",
    "\n",
    "    candidate_zip = zip(name, votes)\n",
    "    candidate_list = list(candidate_zip)\n",
    "\n",
    "    vote_winner = max(votes)\n",
    "\n",
    "    for row in candidate_list:\n",
    "        if row[1] == vote_winner:\n",
    "            winner_name = row[0]       \n",
    "            \n",
    "total_votes = len(candidate)\n",
    "\n",
    "khan_total = candidate.count('Khan')\n",
    "khan_percent = khan_total / total_votes\n",
    "\n",
    "correy_total = candidate.count('Correy')\n",
    "correy_percent = int(correy_total) / int(total_votes)\n",
    "\n",
    "li_total = candidate.count('Li')\n",
    "li_percent = li_total / total_votes\n",
    "\n",
    "otooley_total = candidate.count(\"O'Tooley\")\n",
    "otooley_percent = otooley_total / total_votes\n",
    "\n",
    "\n"
   ]
  },
  {
   "cell_type": "code",
   "execution_count": 37,
   "metadata": {},
   "outputs": [
    {
     "name": "stdout",
     "output_type": "stream",
     "text": [
      "Election Results\n",
      "-------------------------\n",
      "Total Votes: 3521001\n",
      "-------------------------\n",
      "Khan: 63.000% (2218231)\n",
      "Correy: 20.000% (704200)\n",
      "Li: 14.000% (492940)\n",
      "O'Tooley: 3.000% (105630)\n",
      "-------------------------\n",
      "Winner: Khan\n",
      "-------------------------\n"
     ]
    }
   ],
   "source": [
    "print(f'Election Results')\n",
    "print(f'-------------------------')\n",
    "print(f'Total Votes: {total_votes}')\n",
    "print(f'-------------------------')\n",
    "print(f'Khan: {khan_percent:.3%} ({khan_total})')\n",
    "print(f'Correy: {correy_percent:.3%} ({correy_total})')\n",
    "print(f'Li: {li_percent:.3%} ({li_total})')\n",
    "print(f\"O'Tooley: {otooley_percent:.3%} ({otooley_total})\")\n",
    "print(f'-------------------------')\n",
    "print(f'Winner: {winner_name}')\n",
    "print(f'-------------------------')\n",
    "\n"
   ]
  },
  {
   "cell_type": "code",
   "execution_count": 38,
   "metadata": {},
   "outputs": [],
   "source": [
    "# Generate Results Output\n",
    "results = (\n",
    "    f\"\\nElection Results\\n\"\n",
    "    f\"----------------------------\\n\"\n",
    "    f\"Total Votes: {total_votes}\\n\"\n",
    "    f\"----------------------------\\n\"\n",
    "    f\"Khan: {khan_percent:.3%} ({khan_total})\\n\"\n",
    "    f\"Correy: {correy_percent:.3%} ({correy_total})\\n\"\n",
    "    f\"Li: {li_percent:.3%} ({li_total})\\n\"\n",
    "    f\"O'Tooley: {otooley_percent:.3%} ({otooley_total})\\n\"\n",
    "    f\"----------------------------\\n\"\n",
    "    f\"Winner: {winner_name}\\n\"\n",
    "    f\"-------------------------\\n\") "
   ]
  },
  {
   "cell_type": "code",
   "execution_count": 39,
   "metadata": {},
   "outputs": [
    {
     "name": "stdout",
     "output_type": "stream",
     "text": [
      "\n",
      "Election Results\n",
      "----------------------------\n",
      "Total Votes: 3521001\n",
      "----------------------------\n",
      "Khan: 63.000% (2218231)\n",
      "Correy: 20.000% (704200)\n",
      "Li: 14.000% (492940)\n",
      "O'Tooley: 3.000% (105630)\n",
      "----------------------------\n",
      "Winner: Khan\n",
      "-------------------------\n",
      "\n"
     ]
    }
   ],
   "source": [
    "# Print the output (to terminal)\n",
    "print(results)"
   ]
  },
  {
   "cell_type": "code",
   "execution_count": 40,
   "metadata": {},
   "outputs": [],
   "source": [
    "# Export the results to text file\n",
    "file_to_output = os.path.join(\"Analysis\", \"election_results.txt\")\n",
    "\n",
    "with open(file_to_output, \"w\") as txt_file:\n",
    "    txt_file.write(results)"
   ]
  },
  {
   "cell_type": "code",
   "execution_count": null,
   "metadata": {},
   "outputs": [],
   "source": []
  }
 ],
 "metadata": {
  "kernelspec": {
   "display_name": "Python [conda env:PythonData] *",
   "language": "python",
   "name": "conda-env-PythonData-py"
  },
  "language_info": {
   "codemirror_mode": {
    "name": "ipython",
    "version": 3
   },
   "file_extension": ".py",
   "mimetype": "text/x-python",
   "name": "python",
   "nbconvert_exporter": "python",
   "pygments_lexer": "ipython3",
   "version": "3.6.8"
  }
 },
 "nbformat": 4,
 "nbformat_minor": 2
}
